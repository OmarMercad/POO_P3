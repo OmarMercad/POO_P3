{
 "cells": [
  {
   "cell_type": "markdown",
   "id": "860a76cd",
   "metadata": {},
   "source": [
    "## el problema del paradigma  procedural"
   ]
  },
  {
   "cell_type": "code",
   "execution_count": null,
   "id": "621b90ab",
   "metadata": {},
   "outputs": [],
   "source": [
    "numero = 123\n",
    "titular = \"anacleto metralla\"\n",
    "saldo = 100.0\n",
    "limite = 1000.0\n"
   ]
  },
  {
   "cell_type": "code",
   "execution_count": null,
   "id": "fc067403",
   "metadata": {},
   "outputs": [],
   "source": [
    "cuenta = {'numero':123, 'titular':\"anacleto metralla\",'saldo':100.0,'limite':1000.0 }"
   ]
  },
  {
   "cell_type": "code",
   "execution_count": null,
   "id": "4d0c568a",
   "metadata": {},
   "outputs": [],
   "source": [
    "from test import crear_cuenta\n",
    "cuenta = crear_cuenta(123, 'anacleto metralla', 100.0, 1000.0)\n",
    "cuenta['numero']"
   ]
  },
  {
   "cell_type": "markdown",
   "id": "029fbd4e",
   "metadata": {},
   "source": [
    "## crear una nueva funcionalidad en nuestro archivo: test.py"
   ]
  },
  {
   "cell_type": "code",
   "execution_count": null,
   "id": "f17f51be",
   "metadata": {},
   "outputs": [],
   "source": [
    "def depositar(cuenta,valor):\n",
    "    cuenta['saldo'] = cuenta['saldo'] + valor\n",
    "    \n",
    "def retirar(cuenta,valor):\n",
    "    cuenta['saldo'] = cuenta['saldo'] + valor \n",
    "    \n",
    "    \n",
    "def extracto(cuenta):\n",
    "    print('saldo actual es de Bs.{}'.formart(cuenta['saldo']))\n",
    "    "
   ]
  },
  {
   "cell_type": "code",
   "execution_count": null,
   "id": "6fc3432c",
   "metadata": {},
   "outputs": [],
   "source": [
    "from test import crear_cuenta, depositar, retirar, extracto\n",
    "cuenta = crear_cuenta(123, \"Anacleto Metralla\", 100.0, 1000.0)\n",
    "depositar(cuenta, 30)\n",
    "extracto(cuenta)"
   ]
  },
  {
   "cell_type": "code",
   "execution_count": null,
   "id": "b439495d",
   "metadata": {},
   "outputs": [],
   "source": [
    "cuenta2 = {'numero':321,'saldo':400}"
   ]
  },
  {
   "cell_type": "markdown",
   "id": "71b10260",
   "metadata": {},
   "source": [
    "## crear un nuevo archivo cuenta.py"
   ]
  },
  {
   "cell_type": "code",
   "execution_count": null,
   "id": "63e324e5",
   "metadata": {},
   "outputs": [],
   "source": [
    "class cuenta:\n",
    "    pass"
   ]
  },
  {
   "cell_type": "code",
   "execution_count": null,
   "id": "77488749",
   "metadata": {},
   "outputs": [],
   "source": [
    "\"\"\"from Cuenta import Cuenta\n",
    "Cuenta()\"\"\""
   ]
  },
  {
   "cell_type": "code",
   "execution_count": null,
   "id": "64c5e5b5",
   "metadata": {},
   "outputs": [],
   "source": [
    "cuenta = cuenta()\n",
    "cuenta"
   ]
  },
  {
   "cell_type": "code",
   "execution_count": null,
   "id": "50da3213",
   "metadata": {},
   "outputs": [],
   "source": [
    "class Cuenta:\n",
    "    def __init__(self):\n",
    "        print('Construyendo el Objeto...')\n",
    "    "
   ]
  },
  {
   "cell_type": "code",
   "execution_count": null,
   "id": "f9c2a0b5",
   "metadata": {},
   "outputs": [],
   "source": [
    "from cuenta import Cuenta\n",
    "cuenta = Cuenta()\n",
    "cuenta"
   ]
  },
  {
   "cell_type": "markdown",
   "id": "4b4afea4",
   "metadata": {},
   "source": [
    "## comenzar a definir atributos\n"
   ]
  },
  {
   "cell_type": "code",
   "execution_count": null,
   "id": "978cf2c4",
   "metadata": {},
   "outputs": [],
   "source": [
    "class Cuenta:\n",
    "    def __init__(self):\n",
    "        print('Construyendo el Objeto...{}  '.format(self))\n",
    "    \n",
    "    "
   ]
  },
  {
   "cell_type": "code",
   "execution_count": null,
   "id": "c943acf0",
   "metadata": {},
   "outputs": [],
   "source": [
    "class Cuenta:\n",
    "    def __init__(self):\n",
    "        print('Construyendo el Objeto...{}   '.format(self))\n",
    "        self.numero = 123\n",
    "        self.titular = \"aniceto metralla\"\n",
    "        self.saldo = 100.0\n",
    "        self.limite = 1000.0"
   ]
  },
  {
   "cell_type": "code",
   "execution_count": null,
   "id": "debd556f",
   "metadata": {},
   "outputs": [],
   "source": [
    "from cuenta import Cuenta\n",
    "cuenta = Cuenta()\n",
    "cuenta"
   ]
  },
  {
   "cell_type": "code",
   "execution_count": null,
   "id": "98e1f86c",
   "metadata": {},
   "outputs": [],
   "source": [
    "class Cuenta:\n",
    "    def __init__(self, numero, titular, saldo, limite):\n",
    "        print('Construyendo el Objeto...{}'.format(self))\n",
    "        self.numero = numero\n",
    "        self.titular = titular\n",
    "        self.saldo = saldo\n",
    "        self.limite = limite"
   ]
  },
  {
   "cell_type": "code",
   "execution_count": null,
   "id": "f9a7fcf6",
   "metadata": {},
   "outputs": [],
   "source": [
    "from cuenta import Cuenta\n",
    "cuenta = Cuenta(123,\"aniceto metralla\",100.0,1000.0)\n"
   ]
  },
  {
   "cell_type": "code",
   "execution_count": null,
   "id": "4c951c70",
   "metadata": {},
   "outputs": [],
   "source": [
    "cuenta.saldo"
   ]
  },
  {
   "cell_type": "markdown",
   "id": "f16af14c",
   "metadata": {},
   "source": [
    "## metodos"
   ]
  },
  {
   "cell_type": "code",
   "execution_count": null,
   "id": "005630fa",
   "metadata": {},
   "outputs": [],
   "source": [
    "class Cuenta:\n",
    "    def __init__(self, numero, titular, saldo, limite):\n",
    "        print('Construyendo el Objeto...{}'.format(self))\n",
    "        self.numero = numero\n",
    "        self.titular = titular\n",
    "        self.saldo = saldo\n",
    "        self.limite = limite\n",
    "    def extracto(self):\n",
    "        print(\"saldo {} del titular {}  \".format(self.saldo,self.titular))"
   ]
  },
  {
   "cell_type": "code",
   "execution_count": null,
   "id": "8075f992",
   "metadata": {},
   "outputs": [],
   "source": [
    "from cuenta import Cuenta\n",
    "cuenta = Cuenta(123,\"aniceto metralla\",100.0,1000.0)"
   ]
  },
  {
   "cell_type": "code",
   "execution_count": null,
   "id": "e63a7b1c",
   "metadata": {},
   "outputs": [],
   "source": [
    "extracto()"
   ]
  },
  {
   "cell_type": "code",
   "execution_count": null,
   "id": "34e0fcfa",
   "metadata": {},
   "outputs": [],
   "source": [
    "from cuenta import Cuenta\n",
    "cuenta = Cuenta(123,\"aniceto metralla\",100.0,1000.0)"
   ]
  },
  {
   "cell_type": "code",
   "execution_count": null,
   "id": "eb4eca8c",
   "metadata": {},
   "outputs": [],
   "source": [
    "from cuenta import Cuenta\n",
    "cuenta2 = Cuenta(321, \"Rosa Flores Rojas\", 65.0, 1000.0)"
   ]
  },
  {
   "cell_type": "code",
   "execution_count": null,
   "id": "d92a3dde",
   "metadata": {},
   "outputs": [],
   "source": [
    "cuenta.extracto()"
   ]
  },
  {
   "cell_type": "code",
   "execution_count": null,
   "id": "7dcfa58f",
   "metadata": {},
   "outputs": [],
   "source": [
    "class Cuenta:\n",
    "    def __init__(self, numero, titular, saldo, limite):\n",
    "        print('Construyendo el Objeto...{}'.format(self))\n",
    "        self.numero = numero\n",
    "        self.titular = titular\n",
    "        self.saldo = saldo\n",
    "        self.limite = limite\n",
    "    def extracto(self):\n",
    "        print(\"saldo {} del titular {}  \".format(self.saldo,self.titular))\n",
    "    \n",
    "    def depositar(self,valor):\n",
    "        self.saldo += valor\n",
    "        \n",
    "    def retirar (self,valor):\n",
    "        self.saldo -= valor"
   ]
  },
  {
   "cell_type": "code",
   "execution_count": null,
   "id": "51b96e2c",
   "metadata": {},
   "outputs": [],
   "source": [
    "cuenta.extracto()"
   ]
  },
  {
   "cell_type": "code",
   "execution_count": null,
   "id": "65dea0cf",
   "metadata": {},
   "outputs": [],
   "source": [
    "cuenta.depositar(50)"
   ]
  },
  {
   "cell_type": "code",
   "execution_count": null,
   "id": "28d257ac",
   "metadata": {},
   "outputs": [],
   "source": [
    "cuenta.extracto()"
   ]
  },
  {
   "cell_type": "code",
   "execution_count": null,
   "id": "a5313750",
   "metadata": {},
   "outputs": [],
   "source": [
    "cuenta.retirar(250)"
   ]
  },
  {
   "cell_type": "code",
   "execution_count": null,
   "id": "27a781fc",
   "metadata": {},
   "outputs": [],
   "source": [
    "cuenta.extracto()"
   ]
  },
  {
   "cell_type": "code",
   "execution_count": null,
   "id": "03cba9ab",
   "metadata": {},
   "outputs": [],
   "source": [
    "cuenta.retirar(100)\n",
    "            "
   ]
  },
  {
   "cell_type": "code",
   "execution_count": null,
   "id": "750ca636",
   "metadata": {},
   "outputs": [],
   "source": [
    "cuenta.extracto()"
   ]
  },
  {
   "cell_type": "code",
   "execution_count": null,
   "id": "17fc8b7f",
   "metadata": {},
   "outputs": [],
   "source": [
    "cuenta.retirar(30)"
   ]
  },
  {
   "cell_type": "code",
   "execution_count": null,
   "id": "3eba446b",
   "metadata": {},
   "outputs": [],
   "source": [
    "cuenta.extracto()"
   ]
  },
  {
   "cell_type": "markdown",
   "id": "3bd33f73",
   "metadata": {},
   "source": [
    "## clase 07-11-2023\n"
   ]
  },
  {
   "cell_type": "markdown",
   "id": "23c93864",
   "metadata": {},
   "source": [
    "## propiedades"
   ]
  },
  {
   "cell_type": "code",
   "execution_count": null,
   "id": "503c2b61",
   "metadata": {},
   "outputs": [],
   "source": [
    "from cliente import Cliente\n",
    "cliente = Cliente(\"Yami Moto Nocamina\")"
   ]
  },
  {
   "cell_type": "markdown",
   "id": "a790323a",
   "metadata": {},
   "source": [
    "## clase 21-11-2023"
   ]
  },
  {
   "cell_type": "markdown",
   "id": "486f9b0b",
   "metadata": {},
   "source": [
    "## encapsulamiento \n"
   ]
  },
  {
   "cell_type": "code",
   "execution_count": 1,
   "id": "c52b2b66",
   "metadata": {},
   "outputs": [
    {
     "name": "stdout",
     "output_type": "stream",
     "text": [
      "Construyendo el Objeto...<cuenta.Cuenta object at 0x0000025B2B89EA10>\n"
     ]
    }
   ],
   "source": [
    "from cuenta import Cuenta\n",
    "cuenta = Cuenta(123,\"aniceto metralla\",100.0,1000.0)"
   ]
  },
  {
   "cell_type": "code",
   "execution_count": 2,
   "id": "e3d7185c",
   "metadata": {},
   "outputs": [
    {
     "data": {
      "text/plain": [
       "100.0"
      ]
     },
     "execution_count": 2,
     "metadata": {},
     "output_type": "execute_result"
    }
   ],
   "source": [
    "cuenta.saldo"
   ]
  },
  {
   "cell_type": "code",
   "execution_count": 3,
   "id": "75cf1f27",
   "metadata": {},
   "outputs": [],
   "source": [
    "class Cuenta:\n",
    "    def __init__(self, numero, titular, saldo, limite):\n",
    "        print('Construyendo el Objeto...{}'.format(self))\n",
    "        self.__numero = numero\n",
    "        self.__titular = titular\n",
    "        self.__saldo = saldo\n",
    "        self.__limite = limite\n",
    "    def extracto(self):\n",
    "        print(\"saldo {} del titular {}  \".format(self.__saldo,self.__titular))\n",
    "    \n",
    "    def depositar(self,valor):\n",
    "        self.__saldo += valor\n",
    "        \n",
    "    def retirar (self,valor):\n",
    "        if(valor<= self.saldo):\n",
    "            self.__saldo -= valor\n",
    "        else:\n",
    "            print(\"No tiene suficiente saldo\")"
   ]
  },
  {
   "cell_type": "code",
   "execution_count": null,
   "id": "8e2570d7",
   "metadata": {},
   "outputs": [],
   "source": []
  }
 ],
 "metadata": {
  "kernelspec": {
   "display_name": "Python 3 (ipykernel)",
   "language": "python",
   "name": "python3"
  },
  "language_info": {
   "codemirror_mode": {
    "name": "ipython",
    "version": 3
   },
   "file_extension": ".py",
   "mimetype": "text/x-python",
   "name": "python",
   "nbconvert_exporter": "python",
   "pygments_lexer": "ipython3",
   "version": "3.11.4"
  }
 },
 "nbformat": 4,
 "nbformat_minor": 5
}
