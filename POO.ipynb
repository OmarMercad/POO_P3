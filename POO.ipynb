{
 "cells": [
  {
   "cell_type": "markdown",
   "id": "860a76cd",
   "metadata": {},
   "source": [
    "## el problema del paradigma  procedural"
   ]
  },
  {
   "cell_type": "code",
   "execution_count": null,
   "id": "621b90ab",
   "metadata": {},
   "outputs": [],
   "source": [
    "numero = 123\n",
    "titular = \"anacleto metralla\"\n",
    "saldo = 100.0\n",
    "limite = 1000.0\n"
   ]
  },
  {
   "cell_type": "code",
   "execution_count": null,
   "id": "fc067403",
   "metadata": {},
   "outputs": [],
   "source": [
    "cuenta = {'numero':123, 'titular':\"anacleto metralla\",'saldo':100.0,'limite':1000.0 }"
   ]
  },
  {
   "cell_type": "code",
   "execution_count": null,
   "id": "4d0c568a",
   "metadata": {},
   "outputs": [],
   "source": [
    "from test import crear_cuenta\n",
    "cuenta = crear_cuenta(123, 'anacleto metralla', 100.0, 1000.0)\n",
    "cuenta['numero']"
   ]
  },
  {
   "cell_type": "markdown",
   "id": "029fbd4e",
   "metadata": {},
   "source": [
    "## crear una nueva funcionalidad en nuestro archivo: test.py"
   ]
  },
  {
   "cell_type": "code",
   "execution_count": null,
   "id": "f17f51be",
   "metadata": {},
   "outputs": [],
   "source": [
    "def depositar(cuenta,valor):\n",
    "    cuenta['saldo'] = cuenta['saldo'] + valor\n",
    "    \n",
    "def retirar(cuenta,valor):\n",
    "    cuenta['saldo'] = cuenta['saldo'] + valor \n",
    "    \n",
    "    \n",
    "def extracto(cuenta):\n",
    "    print('saldo actual es de Bs.{}'.formart(cuenta['saldo']))\n",
    "    "
   ]
  },
  {
   "cell_type": "code",
   "execution_count": null,
   "id": "6fc3432c",
   "metadata": {},
   "outputs": [],
   "source": [
    "from test import crear_cuenta, depositar, retirar, extracto\n",
    "cuenta = crear_cuenta(123, \"Anacleto Metralla\", 100.0, 1000.0)\n",
    "depositar(cuenta, 30)\n",
    "extracto(cuenta)"
   ]
  },
  {
   "cell_type": "code",
   "execution_count": null,
   "id": "b439495d",
   "metadata": {},
   "outputs": [],
   "source": [
    "cuenta2 = {'numero':321,'saldo':400}"
   ]
  },
  {
   "cell_type": "markdown",
   "id": "71b10260",
   "metadata": {},
   "source": [
    "## crear un nuevo archivo cuenta.py"
   ]
  },
  {
   "cell_type": "code",
   "execution_count": null,
   "id": "63e324e5",
   "metadata": {},
   "outputs": [],
   "source": [
    "class cuenta:\n",
    "    pass"
   ]
  },
  {
   "cell_type": "code",
   "execution_count": null,
   "id": "77488749",
   "metadata": {},
   "outputs": [],
   "source": [
    "\"\"\"from Cuenta import Cuenta\n",
    "Cuenta()\"\"\""
   ]
  },
  {
   "cell_type": "code",
   "execution_count": null,
   "id": "64c5e5b5",
   "metadata": {},
   "outputs": [],
   "source": [
    "cuenta = cuenta()\n",
    "cuenta"
   ]
  },
  {
   "cell_type": "code",
   "execution_count": null,
   "id": "50da3213",
   "metadata": {},
   "outputs": [],
   "source": [
    "class Cuenta:\n",
    "    def __init__(self):\n",
    "        print('Construyendo el Objeto...')\n",
    "    "
   ]
  },
  {
   "cell_type": "code",
   "execution_count": null,
   "id": "f9c2a0b5",
   "metadata": {},
   "outputs": [],
   "source": [
    "from cuenta import Cuenta\n",
    "cuenta = Cuenta()\n",
    "cuenta"
   ]
  },
  {
   "cell_type": "markdown",
   "id": "4b4afea4",
   "metadata": {},
   "source": [
    "## comenzar a definir atributos\n"
   ]
  },
  {
   "cell_type": "code",
   "execution_count": null,
   "id": "978cf2c4",
   "metadata": {},
   "outputs": [],
   "source": [
    "class Cuenta:\n",
    "    def __init__(self):\n",
    "        print('Construyendo el Objeto...{}  '.format(self))\n",
    "    \n",
    "    "
   ]
  },
  {
   "cell_type": "code",
   "execution_count": null,
   "id": "c943acf0",
   "metadata": {},
   "outputs": [],
   "source": [
    "class Cuenta:\n",
    "    def __init__(self):\n",
    "        print('Construyendo el Objeto...{}   '.format(self))\n",
    "        self.numero = 123\n",
    "        self.titular = \"aniceto metralla\"\n",
    "        self.saldo = 100.0\n",
    "        self.limite = 1000.0"
   ]
  },
  {
   "cell_type": "code",
   "execution_count": null,
   "id": "debd556f",
   "metadata": {},
   "outputs": [],
   "source": [
    "from cuenta import Cuenta\n",
    "cuenta = Cuenta()\n",
    "cuenta"
   ]
  },
  {
   "cell_type": "code",
   "execution_count": null,
   "id": "98e1f86c",
   "metadata": {},
   "outputs": [],
   "source": [
    "class Cuenta:\n",
    "    def __init__(self, numero, titular, saldo, limite):\n",
    "        print('Construyendo el Objeto...{}'.format(self))\n",
    "        self.numero = numero\n",
    "        self.titular = titular\n",
    "        self.saldo = saldo\n",
    "        self.limite = limite"
   ]
  },
  {
   "cell_type": "code",
   "execution_count": null,
   "id": "f9a7fcf6",
   "metadata": {},
   "outputs": [],
   "source": [
    "from cuenta import Cuenta\n",
    "cuenta = Cuenta(123,\"aniceto metralla\",100.0,1000.0)\n"
   ]
  },
  {
   "cell_type": "code",
   "execution_count": null,
   "id": "4c951c70",
   "metadata": {},
   "outputs": [],
   "source": [
    "cuenta.saldo"
   ]
  },
  {
   "cell_type": "markdown",
   "id": "f16af14c",
   "metadata": {},
   "source": [
    "## metodos"
   ]
  },
  {
   "cell_type": "code",
   "execution_count": null,
   "id": "005630fa",
   "metadata": {},
   "outputs": [],
   "source": [
    "class Cuenta:\n",
    "    def __init__(self, numero, titular, saldo, limite):\n",
    "        print('Construyendo el Objeto...{}'.format(self))\n",
    "        self.numero = numero\n",
    "        self.titular = titular\n",
    "        self.saldo = saldo\n",
    "        self.limite = limite\n",
    "    def extracto(self):\n",
    "        print(\"saldo {} del titular {}  \".format(self.saldo,self.titular))"
   ]
  },
  {
   "cell_type": "code",
   "execution_count": null,
   "id": "8075f992",
   "metadata": {},
   "outputs": [],
   "source": [
    "from cuenta import Cuenta\n",
    "cuenta = Cuenta(123,\"aniceto metralla\",100.0,1000.0)"
   ]
  },
  {
   "cell_type": "code",
   "execution_count": null,
   "id": "e63a7b1c",
   "metadata": {},
   "outputs": [],
   "source": [
    "extracto()"
   ]
  },
  {
   "cell_type": "code",
   "execution_count": null,
   "id": "34e0fcfa",
   "metadata": {},
   "outputs": [],
   "source": [
    "from cuenta import Cuenta\n",
    "cuenta = Cuenta(123,\"aniceto metralla\",100.0,1000.0)"
   ]
  },
  {
   "cell_type": "code",
   "execution_count": null,
   "id": "eb4eca8c",
   "metadata": {},
   "outputs": [],
   "source": [
    "from cuenta import Cuenta\n",
    "cuenta2 = Cuenta(321, \"Rosa Flores Rojas\", 65.0, 1000.0)"
   ]
  },
  {
   "cell_type": "code",
   "execution_count": null,
   "id": "d92a3dde",
   "metadata": {},
   "outputs": [],
   "source": [
    "cuenta.extracto()"
   ]
  },
  {
   "cell_type": "code",
   "execution_count": null,
   "id": "7dcfa58f",
   "metadata": {},
   "outputs": [],
   "source": [
    "class Cuenta:\n",
    "    def __init__(self, numero, titular, saldo, limite):\n",
    "        print('Construyendo el Objeto...{}'.format(self))\n",
    "        self.numero = numero\n",
    "        self.titular = titular\n",
    "        self.saldo = saldo\n",
    "        self.limite = limite\n",
    "    def extracto(self):\n",
    "        print(\"saldo {} del titular {}  \".format(self.saldo,self.titular))\n",
    "    \n",
    "    def depositar(self,valor):\n",
    "        self.saldo += valor\n",
    "        \n",
    "    def retirar (self,valor):\n",
    "        self.saldo -= valor"
   ]
  },
  {
   "cell_type": "code",
   "execution_count": null,
   "id": "51b96e2c",
   "metadata": {},
   "outputs": [],
   "source": [
    "cuenta.extracto()"
   ]
  },
  {
   "cell_type": "code",
   "execution_count": null,
   "id": "65dea0cf",
   "metadata": {},
   "outputs": [],
   "source": [
    "cuenta.depositar(50)"
   ]
  },
  {
   "cell_type": "code",
   "execution_count": null,
   "id": "28d257ac",
   "metadata": {},
   "outputs": [],
   "source": [
    "cuenta.extracto()"
   ]
  },
  {
   "cell_type": "code",
   "execution_count": null,
   "id": "a5313750",
   "metadata": {},
   "outputs": [],
   "source": [
    "cuenta.retirar(250)"
   ]
  },
  {
   "cell_type": "code",
   "execution_count": null,
   "id": "27a781fc",
   "metadata": {},
   "outputs": [],
   "source": [
    "cuenta.extracto()"
   ]
  },
  {
   "cell_type": "code",
   "execution_count": null,
   "id": "03cba9ab",
   "metadata": {},
   "outputs": [],
   "source": [
    "cuenta.retirar(100)\n",
    "            "
   ]
  },
  {
   "cell_type": "code",
   "execution_count": null,
   "id": "750ca636",
   "metadata": {},
   "outputs": [],
   "source": [
    "cuenta.extracto()"
   ]
  },
  {
   "cell_type": "code",
   "execution_count": null,
   "id": "17fc8b7f",
   "metadata": {},
   "outputs": [],
   "source": [
    "cuenta.retirar(30)"
   ]
  },
  {
   "cell_type": "code",
   "execution_count": null,
   "id": "3eba446b",
   "metadata": {},
   "outputs": [],
   "source": [
    "cuenta.extracto()"
   ]
  },
  {
   "cell_type": "markdown",
   "id": "3bd33f73",
   "metadata": {},
   "source": [
    "## clase 07-11-2023\n"
   ]
  },
  {
   "cell_type": "markdown",
   "id": "23c93864",
   "metadata": {},
   "source": [
    "## propiedades"
   ]
  },
  {
   "cell_type": "code",
   "execution_count": null,
   "id": "503c2b61",
   "metadata": {},
   "outputs": [],
   "source": [
    "from cliente import Cliente\n",
    "cliente = Cliente(\"Yami Moto Nocamina\")"
   ]
  },
  {
   "cell_type": "markdown",
   "id": "ef41bdea",
   "metadata": {},
   "source": [
    "## clase 21-11-2023"
   ]
  },
  {
   "cell_type": "markdown",
   "id": "3240ce87",
   "metadata": {},
   "source": [
    "## encapsulamiento \n"
   ]
  },
  {
   "cell_type": "code",
   "execution_count": null,
   "id": "70c34d29",
   "metadata": {},
   "outputs": [],
   "source": [
    "from cuenta import Cuenta\n",
    "cuenta = Cuenta(123,\"aniceto metralla\",100.0,1000.0)"
   ]
  },
  {
   "cell_type": "code",
   "execution_count": null,
   "id": "14e9219c",
   "metadata": {},
   "outputs": [],
   "source": [
    "cuenta.saldo"
   ]
  },
  {
   "cell_type": "code",
   "execution_count": null,
   "id": "39d1f69e",
   "metadata": {},
   "outputs": [],
   "source": [
    "class Cuenta:\n",
    "    def __init__(self, numero, titular, saldo, limite):\n",
    "        print('Construyendo el Objeto...{}'.format(self))\n",
    "        self.__numero = numero\n",
    "        self.__titular = titular\n",
    "        self.__saldo = saldo\n",
    "        self.__limite = limite\n",
    "    def extracto(self):\n",
    "        print(\"saldo {} del titular {}  \".format(self.__saldo,self.__titular))\n",
    "    \n",
    "    def depositar(self,valor):\n",
    "        self.__saldo += valor\n",
    "        \n",
    "    def retirar (self,valor):\n",
    "        self.__saldo -= valor\n",
    "            \n",
    "            "
   ]
  },
  {
   "cell_type": "code",
   "execution_count": null,
   "id": "dcaa73fc",
   "metadata": {},
   "outputs": [],
   "source": [
    "from cuenta import Cuenta\n",
    "cuenta = Cuenta(123,\"aniceto metralla\",100.0,1000.0)"
   ]
  },
  {
   "cell_type": "code",
   "execution_count": null,
   "id": "3d4b4aed",
   "metadata": {},
   "outputs": [],
   "source": [
    "cuenta.saldo = 50"
   ]
  },
  {
   "cell_type": "code",
   "execution_count": null,
   "id": "398087df",
   "metadata": {},
   "outputs": [],
   "source": [
    "cuenta.extracto()"
   ]
  },
  {
   "cell_type": "markdown",
   "id": "bf815a61",
   "metadata": {},
   "source": [
    "## transferencia de cuenta"
   ]
  },
  {
   "cell_type": "code",
   "execution_count": null,
   "id": "15bdb728",
   "metadata": {},
   "outputs": [],
   "source": [
    "from cuenta import Cuenta\n",
    "cuenta = Cuenta(123,\"aniceto metralla\",100.0,1000.0)"
   ]
  },
  {
   "cell_type": "code",
   "execution_count": null,
   "id": "b53b4307",
   "metadata": {},
   "outputs": [],
   "source": [
    "from cuenta import Cuenta\n",
    "cuenta2 = Cuenta(321, \"Rosa Flores Rojas\", 65.0, 1000.0)"
   ]
  },
  {
   "cell_type": "code",
   "execution_count": null,
   "id": "7712e47b",
   "metadata": {},
   "outputs": [],
   "source": [
    "valor = 10 \n",
    "cuenta.retirar(valor)\n",
    "cuenta.extracto()\n"
   ]
  },
  {
   "cell_type": "code",
   "execution_count": null,
   "id": "2e787ab4",
   "metadata": {},
   "outputs": [],
   "source": [
    "cuenta2.depositar(valor)\n",
    "cuenta2.extracto()"
   ]
  },
  {
   "cell_type": "markdown",
   "id": "9aa88b42",
   "metadata": {},
   "source": [
    "## definiendo el metodo:transferir"
   ]
  },
  {
   "cell_type": "code",
   "execution_count": null,
   "id": "b0a23447",
   "metadata": {},
   "outputs": [],
   "source": [
    "def transferir(self,valor,origen,destino):\n",
    "    origen.retirar(valor)\n",
    "    destino.depositar(valor)\n",
    "    \n"
   ]
  },
  {
   "cell_type": "code",
   "execution_count": null,
   "id": "fb3cc022",
   "metadata": {},
   "outputs": [],
   "source": [
    "from cuenta import Cuenta\n",
    "cuenta = Cuenta(123,\"aniceto metralla\",100.0,1000.0)\n"
   ]
  },
  {
   "cell_type": "code",
   "execution_count": null,
   "id": "07af4a5d",
   "metadata": {},
   "outputs": [],
   "source": [
    "from cuenta import Cuenta\n",
    "cuenta2 = Cuenta(321, \"Rosa Flores Rojas\", 65.0, 1000.0)"
   ]
  },
  {
   "cell_type": "code",
   "execution_count": null,
   "id": "ba48d029",
   "metadata": {},
   "outputs": [],
   "source": [
    "cuenta.transferir(10.0,cuenta,cuenta2)"
   ]
  },
  {
   "cell_type": "code",
   "execution_count": null,
   "id": "b8823089",
   "metadata": {},
   "outputs": [],
   "source": [
    "cuenta.extracto()"
   ]
  },
  {
   "cell_type": "code",
   "execution_count": null,
   "id": "c8b0395f",
   "metadata": {},
   "outputs": [],
   "source": [
    "cuenta2.extracto()"
   ]
  },
  {
   "cell_type": "code",
   "execution_count": null,
   "id": "e6e0dd47",
   "metadata": {},
   "outputs": [],
   "source": [
    "def transferir(self,valor,destino):\n",
    "    self.retirar(valor)\n",
    "    destino.depositar(valor)"
   ]
  },
  {
   "cell_type": "code",
   "execution_count": 1,
   "id": "d5c88e98",
   "metadata": {},
   "outputs": [
    {
     "name": "stdout",
     "output_type": "stream",
     "text": [
      "Construyendo el Objeto...<cuenta.Cuenta object at 0x0000028C59AE7850>\n"
     ]
    }
   ],
   "source": [
    "from cuenta import Cuenta\n",
    "cuenta = Cuenta(123,\"aniceto metralla\",100.0,1000.0)\n"
   ]
  },
  {
   "cell_type": "code",
   "execution_count": 2,
   "id": "f09a18b7",
   "metadata": {},
   "outputs": [
    {
     "name": "stdout",
     "output_type": "stream",
     "text": [
      "Construyendo el Objeto...<cuenta.Cuenta object at 0x0000028C59B05450>\n"
     ]
    }
   ],
   "source": [
    "from cuenta import Cuenta\n",
    "cuenta2 = Cuenta(321, \"Rosa Flores Rojas\", 65.0, 1000.0)"
   ]
  },
  {
   "cell_type": "code",
   "execution_count": 4,
   "id": "c8d7f86c",
   "metadata": {},
   "outputs": [],
   "source": [
    "cuenta.transferir(10.0, cuenta2)"
   ]
  },
  {
   "cell_type": "code",
   "execution_count": 5,
   "id": "85b3d38f",
   "metadata": {},
   "outputs": [
    {
     "name": "stdout",
     "output_type": "stream",
     "text": [
      "saldo 90.0 del titular aniceto metralla  \n"
     ]
    }
   ],
   "source": [
    "cuenta.extracto()"
   ]
  },
  {
   "cell_type": "code",
   "execution_count": 6,
   "id": "16dc98f9",
   "metadata": {},
   "outputs": [
    {
     "name": "stdout",
     "output_type": "stream",
     "text": [
      "saldo 75.0 del titular Rosa Flores Rojas  \n"
     ]
    }
   ],
   "source": [
    "cuenta2.extracto()"
   ]
  },
  {
   "cell_type": "markdown",
   "id": "bedc841e",
   "metadata": {},
   "source": [
    "## propiedades"
   ]
  },
  {
   "cell_type": "code",
   "execution_count": null,
   "id": "1cc07f08",
   "metadata": {},
   "outputs": [],
   "source": [
    "def get_saldo(self):\n",
    "    return self.__saldo\n",
    "\n",
    "def get_titular(self):\n",
    "    return self.__titular\n",
    "\n",
    "def get_limite(self):\n",
    "    return self.__limite\n",
    "\n",
    "def set_limite(self, limite):\n",
    "    self.__limite = limite"
   ]
  },
  {
   "cell_type": "code",
   "execution_count": null,
   "id": "9fe97083",
   "metadata": {},
   "outputs": [],
   "source": []
  },
  {
   "cell_type": "code",
   "execution_count": null,
   "id": "fed83cb0",
   "metadata": {},
   "outputs": [],
   "source": []
  }
 ],
 "metadata": {
  "kernelspec": {
   "display_name": "Python 3 (ipykernel)",
   "language": "python",
   "name": "python3"
  },
  "language_info": {
   "codemirror_mode": {
    "name": "ipython",
    "version": 3
   },
   "file_extension": ".py",
   "mimetype": "text/x-python",
   "name": "python",
   "nbconvert_exporter": "python",
   "pygments_lexer": "ipython3",
   "version": "3.11.4"
  }
 },
 "nbformat": 4,
 "nbformat_minor": 5
}
