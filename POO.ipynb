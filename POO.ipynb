{
 "cells": [
  {
   "cell_type": "markdown",
   "id": "860a76cd",
   "metadata": {},
   "source": [
    "## el problema del paradigma  procedural"
   ]
  },
  {
   "cell_type": "code",
   "execution_count": null,
   "id": "621b90ab",
   "metadata": {},
   "outputs": [],
   "source": [
    "numero = 123\n",
    "titular = \"anacleto metralla\"\n",
    "saldo = 100.0\n",
    "limite = 1000.0\n"
   ]
  },
  {
   "cell_type": "code",
   "execution_count": null,
   "id": "fc067403",
   "metadata": {},
   "outputs": [],
   "source": [
    "cuenta = {'numero':123, 'titular':\"anacleto metralla\",'saldo':100.0,'limite':1000.0 }"
   ]
  },
  {
   "cell_type": "code",
   "execution_count": null,
   "id": "4d0c568a",
   "metadata": {},
   "outputs": [],
   "source": [
    "from test import crear_cuenta\n",
    "cuenta = crear_cuenta(123, 'anacleto metralla', 100.0, 1000.0)\n",
    "cuenta['numero']"
   ]
  },
  {
   "cell_type": "markdown",
   "id": "029fbd4e",
   "metadata": {},
   "source": [
    "## crear una nueva funcionalidad en nuestro archivo: test.py"
   ]
  },
  {
   "cell_type": "code",
   "execution_count": null,
   "id": "f17f51be",
   "metadata": {},
   "outputs": [],
   "source": [
    "def depositar(cuenta,valor):\n",
    "    cuenta['saldo'] = cuenta['saldo'] + valor\n",
    "    \n",
    "def retirar(cuenta,valor):\n",
    "    cuenta['saldo'] = cuenta['saldo'] + valor \n",
    "    \n",
    "    \n",
    "def extracto(cuenta):\n",
    "    print('saldo actual es de Bs.{}'.formart(cuenta['saldo']))\n",
    "    "
   ]
  },
  {
   "cell_type": "code",
   "execution_count": null,
   "id": "6fc3432c",
   "metadata": {},
   "outputs": [],
   "source": [
    "from test import crear_cuenta, depositar, retirar, extracto\n",
    "cuenta = crear_cuenta(123, \"Anacleto Metralla\", 100.0, 1000.0)\n",
    "depositar(cuenta, 30)\n",
    "extracto(cuenta)"
   ]
  },
  {
   "cell_type": "code",
   "execution_count": null,
   "id": "b439495d",
   "metadata": {},
   "outputs": [],
   "source": [
    "cuenta2 = {'numero':321,'saldo':400}"
   ]
  },
  {
   "cell_type": "markdown",
   "id": "71b10260",
   "metadata": {},
   "source": [
    "## crear un nuevo archivo cuenta.py"
   ]
  },
  {
   "cell_type": "code",
   "execution_count": null,
   "id": "63e324e5",
   "metadata": {},
   "outputs": [],
   "source": [
    "class cuenta:\n",
    "    pass"
   ]
  },
  {
   "cell_type": "code",
   "execution_count": null,
   "id": "77488749",
   "metadata": {},
   "outputs": [],
   "source": [
    "\"\"\"from Cuenta import Cuenta\n",
    "Cuenta()\"\"\""
   ]
  },
  {
   "cell_type": "code",
   "execution_count": null,
   "id": "64c5e5b5",
   "metadata": {},
   "outputs": [],
   "source": [
    "cuenta = cuenta()\n",
    "cuenta"
   ]
  },
  {
   "cell_type": "code",
   "execution_count": null,
   "id": "d7089f7a",
   "metadata": {},
   "outputs": [],
   "source": [
    "class Cuenta:\n",
    "    def __init__(self):\n",
    "        print('Construyendo el Objeto...')\n",
    "    "
   ]
  },
  {
   "cell_type": "code",
   "execution_count": 1,
   "id": "7e2d1211",
   "metadata": {},
   "outputs": [
    {
     "name": "stdout",
     "output_type": "stream",
     "text": [
      "Construyendo el Objeto...\n"
     ]
    },
    {
     "data": {
      "text/plain": [
       "<cuenta.Cuenta at 0x2a820e8a710>"
      ]
     },
     "execution_count": 1,
     "metadata": {},
     "output_type": "execute_result"
    }
   ],
   "source": [
    "from cuenta import Cuenta\n",
    "cuenta = Cuenta()\n",
    "cuenta"
   ]
  },
  {
   "cell_type": "markdown",
   "id": "f50d7d4f",
   "metadata": {},
   "source": [
    "## comenzar a definir atributos\n"
   ]
  },
  {
   "cell_type": "code",
   "execution_count": 2,
   "id": "8e782b48",
   "metadata": {},
   "outputs": [],
   "source": [
    "class Cuenta:\n",
    "    def __init__(self):\n",
    "        print('Construyendo el Objeto...[] '.format(self))\n",
    "    \n",
    "    "
   ]
  },
  {
   "cell_type": "code",
   "execution_count": 3,
   "id": "20ae941e",
   "metadata": {},
   "outputs": [],
   "source": [
    "class Cuenta:\n",
    "    def __init__(self):\n",
    "        print('Construyendo el Objeto...[] '.format(self))\n",
    "        self.numero = 123\n",
    "        self.titular = \"aniceto metralla\"\n",
    "        self.saldo = 100.0\n",
    "        self.limite = 1000.0"
   ]
  },
  {
   "cell_type": "code",
   "execution_count": null,
   "id": "ee0d77be",
   "metadata": {},
   "outputs": [],
   "source": []
  }
 ],
 "metadata": {
  "kernelspec": {
   "display_name": "Python 3 (ipykernel)",
   "language": "python",
   "name": "python3"
  },
  "language_info": {
   "codemirror_mode": {
    "name": "ipython",
    "version": 3
   },
   "file_extension": ".py",
   "mimetype": "text/x-python",
   "name": "python",
   "nbconvert_exporter": "python",
   "pygments_lexer": "ipython3",
   "version": "3.11.4"
  }
 },
 "nbformat": 4,
 "nbformat_minor": 5
}
