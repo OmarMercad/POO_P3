{
 "cells": [
  {
   "cell_type": "markdown",
   "id": "860a76cd",
   "metadata": {},
   "source": [
    "## el problema del paradigma  procedural"
   ]
  },
  {
   "cell_type": "code",
   "execution_count": null,
   "id": "621b90ab",
   "metadata": {},
   "outputs": [],
   "source": [
    "numero = 123\n",
    "titular = \"anacleto metralla\"\n",
    "saldo = 100.0\n",
    "limite = 1000.0\n"
   ]
  },
  {
   "cell_type": "code",
   "execution_count": null,
   "id": "fc067403",
   "metadata": {},
   "outputs": [],
   "source": [
    "cuenta = {'numero':123, 'titular':\"anacleto metralla\",'saldo':100.0,'limite':1000.0 }"
   ]
  },
  {
   "cell_type": "code",
   "execution_count": null,
   "id": "4d0c568a",
   "metadata": {},
   "outputs": [],
   "source": [
    "from test import crear_cuenta\n",
    "cuenta = crear_cuenta(123, 'anacleto metralla', 100.0, 1000.0)\n",
    "cuenta['numero']"
   ]
  },
  {
   "cell_type": "markdown",
   "id": "029fbd4e",
   "metadata": {},
   "source": [
    "## crear una nueva funcionalidad en nuestro archivo: test.py"
   ]
  },
  {
   "cell_type": "code",
   "execution_count": null,
   "id": "f17f51be",
   "metadata": {},
   "outputs": [],
   "source": [
    "def depositar(cuenta,valor):\n",
    "    cuenta['saldo'] = cuenta['saldo'] + valor\n",
    "    \n",
    "def retirar(cuenta,valor):\n",
    "    cuenta['saldo'] = cuenta['saldo'] + valor \n",
    "    \n",
    "    \n",
    "def extracto(cuenta):\n",
    "    print('saldo actual es de Bs.{}'.formart(cuenta['saldo']))\n",
    "    "
   ]
  },
  {
   "cell_type": "code",
   "execution_count": null,
   "id": "6fc3432c",
   "metadata": {},
   "outputs": [],
   "source": [
    "from test import crear_cuenta, depositar, retirar, extracto\n",
    "cuenta = crear_cuenta(123, \"Anacleto Metralla\", 100.0, 1000.0)\n",
    "depositar(cuenta, 30)\n",
    "extracto(cuenta)"
   ]
  },
  {
   "cell_type": "code",
   "execution_count": null,
   "id": "b439495d",
   "metadata": {},
   "outputs": [],
   "source": [
    "cuenta2 = {'numero':321,'saldo':400}"
   ]
  },
  {
   "cell_type": "markdown",
   "id": "71b10260",
   "metadata": {},
   "source": [
    "## crear un nuevo archivo cuenta.py"
   ]
  },
  {
   "cell_type": "code",
   "execution_count": null,
   "id": "63e324e5",
   "metadata": {},
   "outputs": [],
   "source": [
    "class cuenta:\n",
    "    pass"
   ]
  },
  {
   "cell_type": "code",
   "execution_count": null,
   "id": "77488749",
   "metadata": {},
   "outputs": [],
   "source": [
    "\"\"\"from Cuenta import Cuenta\n",
    "Cuenta()\"\"\""
   ]
  },
  {
   "cell_type": "code",
   "execution_count": null,
   "id": "64c5e5b5",
   "metadata": {},
   "outputs": [],
   "source": [
    "cuenta = cuenta()\n",
    "cuenta"
   ]
  },
  {
   "cell_type": "code",
   "execution_count": null,
   "id": "19ff7d99",
   "metadata": {},
   "outputs": [],
   "source": [
    "class Cuenta:\n",
    "    def __init__(self):\n",
    "        print('Construyendo el Objeto...')\n",
    "    "
   ]
  },
  {
   "cell_type": "code",
   "execution_count": null,
   "id": "1c43dc08",
   "metadata": {},
   "outputs": [],
   "source": [
    "from cuenta import Cuenta\n",
    "cuenta = Cuenta()\n",
    "cuenta"
   ]
  },
  {
   "cell_type": "markdown",
   "id": "30f044a4",
   "metadata": {},
   "source": [
    "## comenzar a definir atributos\n"
   ]
  },
  {
   "cell_type": "code",
   "execution_count": null,
   "id": "2f89c41b",
   "metadata": {},
   "outputs": [],
   "source": [
    "class Cuenta:\n",
    "    def __init__(self):\n",
    "        print('Construyendo el Objeto...{}  '.format(self))\n",
    "    \n",
    "    "
   ]
  },
  {
   "cell_type": "code",
   "execution_count": null,
   "id": "ef85af83",
   "metadata": {},
   "outputs": [],
   "source": [
    "class Cuenta:\n",
    "    def __init__(self):\n",
    "        print('Construyendo el Objeto...{}   '.format(self))\n",
    "        self.numero = 123\n",
    "        self.titular = \"aniceto metralla\"\n",
    "        self.saldo = 100.0\n",
    "        self.limite = 1000.0"
   ]
  },
  {
   "cell_type": "code",
   "execution_count": null,
   "id": "639d0f94",
   "metadata": {},
   "outputs": [],
   "source": [
    "from cuenta import Cuenta\n",
    "cuenta = Cuenta()\n",
    "cuenta"
   ]
  },
  {
   "cell_type": "code",
   "execution_count": null,
   "id": "f4e5ff46",
   "metadata": {},
   "outputs": [],
   "source": [
    "class Cuenta:\n",
    "    def __init__(self, numero, titular, saldo, limite):\n",
    "        print('Construyendo el Objeto...{}'.format(self))\n",
    "        self.numero = numero\n",
    "        self.titular = titular\n",
    "        self.saldo = saldo\n",
    "        self.limite = limite"
   ]
  },
  {
   "cell_type": "code",
   "execution_count": null,
   "id": "03a2babf",
   "metadata": {},
   "outputs": [],
   "source": [
    "from cuenta import Cuenta\n",
    "cuenta = Cuenta(123,\"aniceto metralla\",100.0,1000.0)\n"
   ]
  },
  {
   "cell_type": "code",
   "execution_count": null,
   "id": "474b57ba",
   "metadata": {},
   "outputs": [],
   "source": [
    "cuenta.saldo"
   ]
  },
  {
   "cell_type": "markdown",
   "id": "043a8fcf",
   "metadata": {},
   "source": [
    "## metodos"
   ]
  },
  {
   "cell_type": "code",
   "execution_count": null,
   "id": "07b8c944",
   "metadata": {},
   "outputs": [],
   "source": [
    "class Cuenta:\n",
    "    def __init__(self, numero, titular, saldo, limite):\n",
    "        print('Construyendo el Objeto...{}'.format(self))\n",
    "        self.numero = numero\n",
    "        self.titular = titular\n",
    "        self.saldo = saldo\n",
    "        self.limite = limite\n",
    "    def extracto():\n",
    "        print(\"saldo {} del titular {}  \".format(self.saldo,self.titular))"
   ]
  },
  {
   "cell_type": "code",
   "execution_count": null,
   "id": "f618735d",
   "metadata": {},
   "outputs": [],
   "source": [
    "from cuenta import Cuenta\n",
    "cuenta = Cuenta(123,\"aniceto metralla\",100.0,1000.0)"
   ]
  },
  {
   "cell_type": "code",
   "execution_count": 1,
   "id": "79b1b5a9",
   "metadata": {},
   "outputs": [
    {
     "ename": "NameError",
     "evalue": "name 'extracto' is not defined",
     "output_type": "error",
     "traceback": [
      "\u001b[1;31m---------------------------------------------------------------------------\u001b[0m",
      "\u001b[1;31mNameError\u001b[0m                                 Traceback (most recent call last)",
      "Cell \u001b[1;32mIn[1], line 1\u001b[0m\n\u001b[1;32m----> 1\u001b[0m extracto()\n",
      "\u001b[1;31mNameError\u001b[0m: name 'extracto' is not defined"
     ]
    }
   ],
   "source": [
    "extracto()"
   ]
  },
  {
   "cell_type": "code",
   "execution_count": 2,
   "id": "ce8c30b5",
   "metadata": {},
   "outputs": [
    {
     "name": "stdout",
     "output_type": "stream",
     "text": [
      "Construyendo el Objeto...<cuenta.Cuenta object at 0x00000143A09DB390>\n"
     ]
    }
   ],
   "source": [
    "from cuenta import Cuenta\n",
    "cuenta = Cuenta(123,\"aniceto metralla\",100.0,1000.0)"
   ]
  },
  {
   "cell_type": "code",
   "execution_count": 3,
   "id": "3dad998b",
   "metadata": {},
   "outputs": [
    {
     "name": "stdout",
     "output_type": "stream",
     "text": [
      "Construyendo el Objeto...<cuenta.Cuenta object at 0x00000143A190B490>\n"
     ]
    }
   ],
   "source": [
    "from cuenta import Cuenta\n",
    "cuenta2 = Cuenta(321, \"Rosa Flores Rojas\", 65.0, 1000.0)"
   ]
  },
  {
   "cell_type": "code",
   "execution_count": 4,
   "id": "aeb19a3d",
   "metadata": {},
   "outputs": [
    {
     "name": "stdout",
     "output_type": "stream",
     "text": [
      "saldo 100.0 del titular aniceto metralla \n"
     ]
    }
   ],
   "source": [
    "cuenta.extracto()"
   ]
  },
  {
   "cell_type": "code",
   "execution_count": null,
   "id": "b6c50415",
   "metadata": {},
   "outputs": [],
   "source": []
  }
 ],
 "metadata": {
  "kernelspec": {
   "display_name": "Python 3 (ipykernel)",
   "language": "python",
   "name": "python3"
  },
  "language_info": {
   "codemirror_mode": {
    "name": "ipython",
    "version": 3
   },
   "file_extension": ".py",
   "mimetype": "text/x-python",
   "name": "python",
   "nbconvert_exporter": "python",
   "pygments_lexer": "ipython3",
   "version": "3.11.4"
  }
 },
 "nbformat": 4,
 "nbformat_minor": 5
}
